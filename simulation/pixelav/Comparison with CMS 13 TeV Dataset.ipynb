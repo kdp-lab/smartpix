{
 "cells": [
  {
   "cell_type": "code",
   "execution_count": 42,
   "id": "fc968afd",
   "metadata": {},
   "outputs": [
    {
     "name": "stderr",
     "output_type": "stream",
     "text": [
      "/home/badea/.conda/envs/hls4ml-tutorial/lib/python3.10/site-packages/atlas_mpl_style/__init__.py:212: UserWarning: No LaTeX installation found -- atlas-mpl-style is falling back to usetex=False\n",
      "  _warn.warn(\n"
     ]
    }
   ],
   "source": [
    "import numpy as np\n",
    "import pandas as pd\n",
    "import matplotlib\n",
    "import matplotlib.pyplot as plt\n",
    "import matplotlib.font_manager\n",
    "import os\n",
    "import atlas_mpl_style as ampl\n",
    "ampl.use_atlas_style(usetex=True)\n",
    "ampl.set_color_cycle(\"Paper\", 6)\n",
    "import uproot\n",
    "import glob\n",
    "import awkward as ak"
   ]
  },
  {
   "cell_type": "code",
   "execution_count": 84,
   "id": "3a2ad714",
   "metadata": {},
   "outputs": [
    {
     "name": "stdout",
     "output_type": "stream",
     "text": [
      "7999482\n"
     ]
    }
   ],
   "source": [
    "# load the cms dataset\n",
    "eosdir = '/local/d1/badea/tracker/data/smartpix/parquet/dataset12/unflipped'\n",
    "truth9 = pd.DataFrame()\n",
    "for f in os.listdir(eosdir):\n",
    "    if 'recon' in f:\n",
    "        continue\n",
    "    truth9 = pd.concat([truth9,pd.read_parquet(os.path.join(eosdir,f)),])\n",
    "print(len(truth9))"
   ]
  },
  {
   "cell_type": "code",
   "execution_count": 86,
   "id": "1e2f7477",
   "metadata": {},
   "outputs": [
    {
     "name": "stdout",
     "output_type": "stream",
     "text": [
      "(6278118,)\n"
     ]
    }
   ],
   "source": [
    "# load the root files\n",
    "files = \"/local/d1/badea/tracker/smartpix/simulation/outdir/cmsMatch/4/*.root\"\n",
    "tree = \"Delphes\"\n",
    "delphes_track_pt = []\n",
    "for array in uproot.iterate(f\"{files}:{tree}\", [\"Track.PT\"]):\n",
    "    # each of the following have 100 entries\n",
    "    delphes_track_pt.append(ak.flatten(array[\"Track.PT\"]))\n",
    "delphes_track_pt = np.array(np.concatenate(delphes_track_pt))\n",
    "print(delphes_track_pt.shape)"
   ]
  },
  {
   "cell_type": "code",
   "execution_count": 89,
   "id": "5e8ad990",
   "metadata": {},
   "outputs": [
    {
     "data": {
      "image/png": "[encoded data removed]",
      "text/plain": [
       "<Figure size 432x360 with 1 Axes>"
      ]
     },
     "metadata": {},
     "output_type": "display_data"
    }
   ],
   "source": [
    "# make plot\n",
    "fig = plt.figure(figsize=(6, 5))\n",
    "ax = plt.axes([0.1, 0.1, 0.85, 0.85])\n",
    "\n",
    "# settings\n",
    "lw=1.5\n",
    "rasterized = False\n",
    "density = False\n",
    "bins = np.linspace(0,2.5,26)\n",
    "bw = bins[1]-bins[0]\n",
    "\n",
    "# draw data\n",
    "ax.hist(truth9.pt, \n",
    "        bins=bins,\n",
    "        alpha=1.0, \n",
    "        lw=lw,\n",
    "        ls=\"-\",\n",
    "        histtype=\"step\",\n",
    "        label=\"CMS Dataset 12\",\n",
    "        color=\"black\",\n",
    "        density=density,\n",
    "        rasterized=rasterized)\n",
    "# draw simulation\n",
    "ax.hist(delphes_track_pt, \n",
    "        bins=bins,\n",
    "        alpha=1.0, \n",
    "        lw=lw,\n",
    "        ls=\"-\",\n",
    "        histtype=\"step\",\n",
    "        label=\"Pythia+DelphesCMS\",\n",
    "        color=\"blue\",\n",
    "        density=density,\n",
    "        rasterized=rasterized)\n",
    "\n",
    "# set labels\n",
    "ax.set_xlabel(\"pT [GeV]\", fontsize=21, labelpad=9, horizontalalignment='right', x=1.0)\n",
    "ax.set_ylabel((\"Density of tracks\" if density else \"Number of tracks\")+f\" / {bw} GeV\", fontsize=21, labelpad=9, horizontalalignment='right', y=1.0)\n",
    "\n",
    "# set limits\n",
    "ax.set_xlim(0, 3)\n",
    "# ax.set_ylim(0, 2.6)\n",
    "\n",
    "# tick params\n",
    "tick_params_major = {\"which\"     : \"major\",\n",
    "                     \"length\"    : 10,\n",
    "                     \"width\"     : 1.25,\n",
    "                     \"direction\" : \"in\",\n",
    "                     \"right\"     : True,\n",
    "                     \"top\"       : True,\n",
    "                     \"labelsize\" : 17,\n",
    "                     \"pad\"       : 8}\n",
    "tick_params_minor = {\"which\"     : \"minor\",\n",
    "                     \"length\"    : 4,\n",
    "                     \"width\"     : 1,\n",
    "                     \"direction\" : \"in\",\n",
    "                     \"right\"     : True,\n",
    "                     \"top\"       : True,\n",
    "                     \"labelsize\" : 15}\n",
    "\n",
    "# ax.xaxis.set_minor_locator(AutoMinorLocator(5))\n",
    "# ax.yaxis.set_minor_locator(AutoMinorLocator(5))\n",
    "ax.tick_params(**tick_params_major)\n",
    "ax.tick_params(**tick_params_minor)\n",
    "plt.locator_params(axis='y', nbins=8)\n",
    "plt.locator_params(axis='x', nbins=8)\n",
    "\n",
    "# save\n",
    "# plt.yscale(\"log\")\n",
    "plt.legend()\n",
    "plt.show()\n",
    "# outFileName = var+\".pdf\"\n",
    "# plt.savefig(outFileName, bbox_inches=\"tight\") # _noFirstLayer"
   ]
  }
 ],
 "metadata": {
  "kernelspec": {
   "display_name": "Python 3 (ipykernel)",
   "language": "python",
   "name": "python3"
  },
  "language_info": {
   "codemirror_mode": {
    "name": "ipython",
    "version": 3
   },
   "file_extension": ".py",
   "mimetype": "text/x-python",
   "name": "python",
   "nbconvert_exporter": "python",
   "pygments_lexer": "ipython3",
   "version": "3.10.10"
  }
 },
 "nbformat": 4,
 "nbformat_minor": 5
}
